{
 "cells": [
  {
   "cell_type": "markdown",
   "metadata": {},
   "source": [
    "# Predict Personality Type from Chinese Text"
   ]
  },
  {
   "cell_type": "markdown",
   "metadata": {},
   "source": [
    "Zihuan Ran\n",
    "\n",
    "az_ran@outlook.com"
   ]
  },
  {
   "cell_type": "code",
   "execution_count": 53,
   "metadata": {
    "ExecuteTime": {
     "end_time": "2020-11-15T13:51:07.057851Z",
     "start_time": "2020-11-15T13:51:07.049604Z"
    }
   },
   "outputs": [
    {
     "name": "stdout",
     "output_type": "stream",
     "text": [
      "scipy==1.1.0\n",
      "scikit-learn==0.22.2.post1\n",
      "pandas==1.0.0\n",
      "numpy==1.17.2\n",
      "jieba==0.42.1\n"
     ]
    }
   ],
   "source": [
    "import pkg_resources\n",
    "import types\n",
    "def get_imports():\n",
    "    for name, val in globals().items():\n",
    "        if isinstance(val, types.ModuleType):\n",
    "            # Split ensures you get root package, \n",
    "            # not just imported function\n",
    "            name = val.__name__.split(\".\")[0]\n",
    "\n",
    "        elif isinstance(val, type):\n",
    "            name = val.__module__.split(\".\")[0]\n",
    "\n",
    "        # Some packages are weird and have different\n",
    "        # imported names vs. system/pip names. Unfortunately,\n",
    "        # there is no systematic way to get pip names from\n",
    "        # a package's imported name. You'll have to add\n",
    "        # exceptions to this list manually!\n",
    "        poorly_named_packages = {\n",
    "            \"PIL\": \"Pillow\",\n",
    "            \"sklearn\": \"scikit-learn\"\n",
    "        }\n",
    "        if name in poorly_named_packages.keys():\n",
    "            name = poorly_named_packages[name]\n",
    "\n",
    "        yield name\n",
    "imports = list(set(get_imports()))\n",
    "\n",
    "# The only way I found to get the version of the root package\n",
    "# from only the name of the package is to cross-check the names \n",
    "# of installed packages vs. imported packages\n",
    "requirements = []\n",
    "for m in pkg_resources.working_set:\n",
    "    if m.project_name in imports and m.project_name!=\"pip\":\n",
    "        requirements.append((m.project_name, m.version))\n",
    "\n",
    "for r in requirements:\n",
    "    print(\"{}=={}\".format(*r))"
   ]
  },
  {
   "cell_type": "markdown",
   "metadata": {
    "ExecuteTime": {
     "end_time": "2020-11-15T13:40:05.580517Z",
     "start_time": "2020-11-15T13:40:05.577049Z"
    }
   },
   "source": [
    "In this toy project, we aimed at predicting Yes/No for each of the five personalities given a piece of Chinese text:"
   ]
  },
  {
   "cell_type": "code",
   "execution_count": 1,
   "metadata": {
    "ExecuteTime": {
     "end_time": "2020-11-15T13:06:31.031304Z",
     "start_time": "2020-11-15T13:06:29.839193Z"
    }
   },
   "outputs": [],
   "source": [
    "import pandas as pd\n",
    "import numpy as np\n",
    "import jieba\n",
    "from sklearn.feature_extraction.text import CountVectorizer"
   ]
  },
  {
   "cell_type": "markdown",
   "metadata": {},
   "source": [
    "## Data Wrangling"
   ]
  },
  {
   "cell_type": "code",
   "execution_count": 2,
   "metadata": {
    "ExecuteTime": {
     "end_time": "2020-11-15T09:49:30.673146Z",
     "start_time": "2020-11-15T09:49:30.582171Z"
    }
   },
   "outputs": [],
   "source": [
    "label_data = pd.read_csv('data/essay_cleaned_zh_score.txt', sep='\\t', header=None)\n",
    "\n",
    "label_data.columns = ['id', 'o', 'c', 'e', 'a', 'n']\n",
    "\n",
    "text_data = pd.read_csv('data/essay_cleaned_zh.txt', header=None, sep='\\t')\n",
    "\n",
    "text_data.columns = ['id', 'text']"
   ]
  },
  {
   "cell_type": "code",
   "execution_count": 3,
   "metadata": {
    "ExecuteTime": {
     "end_time": "2020-11-15T09:49:32.036960Z",
     "start_time": "2020-11-15T09:49:32.021863Z"
    },
    "scrolled": true
   },
   "outputs": [
    {
     "data": {
      "text/html": [
       "<div>\n",
       "<style scoped>\n",
       "    .dataframe tbody tr th:only-of-type {\n",
       "        vertical-align: middle;\n",
       "    }\n",
       "\n",
       "    .dataframe tbody tr th {\n",
       "        vertical-align: top;\n",
       "    }\n",
       "\n",
       "    .dataframe thead th {\n",
       "        text-align: right;\n",
       "    }\n",
       "</style>\n",
       "<table border=\"1\" class=\"dataframe\">\n",
       "  <thead>\n",
       "    <tr style=\"text-align: right;\">\n",
       "      <th></th>\n",
       "      <th>id</th>\n",
       "      <th>text</th>\n",
       "    </tr>\n",
       "  </thead>\n",
       "  <tbody>\n",
       "    <tr>\n",
       "      <th>0</th>\n",
       "      <td>1</td>\n",
       "      <td>现在我刚从午睡中醒来。这有点奇怪，但自从我搬到得克萨斯州后，我一直无法集中精力处理事情。我记...</td>\n",
       "    </tr>\n",
       "    <tr>\n",
       "      <th>1</th>\n",
       "      <td>2</td>\n",
       "      <td>好吧，我们来看看意识流的文章。我以前在高中的时候经常做这样的事。他们很有趣，但我经常发现自己...</td>\n",
       "    </tr>\n",
       "    <tr>\n",
       "      <th>2</th>\n",
       "      <td>3</td>\n",
       "      <td>打开的键盘和按钮。事情终于成功了，我不需要使用句号逗号和所有那些想法。句点后加两倍空格。我们...</td>\n",
       "    </tr>\n",
       "    <tr>\n",
       "      <th>3</th>\n",
       "      <td>4</td>\n",
       "      <td>我真不敢相信！真的发生了！我的脉搏快疯了。所以这就是它的样子。现在我终于知道那是什么感觉了。...</td>\n",
       "    </tr>\n",
       "    <tr>\n",
       "      <th>4</th>\n",
       "      <td>5</td>\n",
       "      <td>好吧，我又来了一个好的旧意识流任务。我觉得我又回到了新生的英语课上了。这不是坏事，但是我的英...</td>\n",
       "    </tr>\n",
       "    <tr>\n",
       "      <th>...</th>\n",
       "      <td>...</td>\n",
       "      <td>...</td>\n",
       "    </tr>\n",
       "    <tr>\n",
       "      <th>2456</th>\n",
       "      <td>2463</td>\n",
       "      <td>我在家。我想上床睡觉，但我想起下周我有一个心理学作业要完成。也许这不会花那么长时间。我能应付...</td>\n",
       "    </tr>\n",
       "    <tr>\n",
       "      <th>2457</th>\n",
       "      <td>2464</td>\n",
       "      <td>一致性流。这个怎么拼？去他妈的如果我知道的话。我今天好像知道的不多。我他妈的为什么这么不高兴...</td>\n",
       "    </tr>\n",
       "    <tr>\n",
       "      <th>2458</th>\n",
       "      <td>2465</td>\n",
       "      <td>今天是12月8日星期三，这学期有很多事情要做。我正在努力尽可能地完成这学期的学习，但它并没有...</td>\n",
       "    </tr>\n",
       "    <tr>\n",
       "      <th>2459</th>\n",
       "      <td>2466</td>\n",
       "      <td>这个星期真是太可怕了。无论如何，现在是20分钟写作作业的时间了。我现在很累，今晚有很多功课要...</td>\n",
       "    </tr>\n",
       "    <tr>\n",
       "      <th>2460</th>\n",
       "      <td>2467</td>\n",
       "      <td>我刚和布雷迪通了电话。我正在决定这个周末我们要做什么。他想去旅馆，但我知道我得照看孩子，我不...</td>\n",
       "    </tr>\n",
       "  </tbody>\n",
       "</table>\n",
       "<p>2461 rows × 2 columns</p>\n",
       "</div>"
      ],
      "text/plain": [
       "        id                                               text\n",
       "0        1  现在我刚从午睡中醒来。这有点奇怪，但自从我搬到得克萨斯州后，我一直无法集中精力处理事情。我记...\n",
       "1        2  好吧，我们来看看意识流的文章。我以前在高中的时候经常做这样的事。他们很有趣，但我经常发现自己...\n",
       "2        3  打开的键盘和按钮。事情终于成功了，我不需要使用句号逗号和所有那些想法。句点后加两倍空格。我们...\n",
       "3        4  我真不敢相信！真的发生了！我的脉搏快疯了。所以这就是它的样子。现在我终于知道那是什么感觉了。...\n",
       "4        5  好吧，我又来了一个好的旧意识流任务。我觉得我又回到了新生的英语课上了。这不是坏事，但是我的英...\n",
       "...    ...                                                ...\n",
       "2456  2463  我在家。我想上床睡觉，但我想起下周我有一个心理学作业要完成。也许这不会花那么长时间。我能应付...\n",
       "2457  2464  一致性流。这个怎么拼？去他妈的如果我知道的话。我今天好像知道的不多。我他妈的为什么这么不高兴...\n",
       "2458  2465  今天是12月8日星期三，这学期有很多事情要做。我正在努力尽可能地完成这学期的学习，但它并没有...\n",
       "2459  2466  这个星期真是太可怕了。无论如何，现在是20分钟写作作业的时间了。我现在很累，今晚有很多功课要...\n",
       "2460  2467  我刚和布雷迪通了电话。我正在决定这个周末我们要做什么。他想去旅馆，但我知道我得照看孩子，我不...\n",
       "\n",
       "[2461 rows x 2 columns]"
      ]
     },
     "execution_count": 3,
     "metadata": {},
     "output_type": "execute_result"
    }
   ],
   "source": [
    "text_data"
   ]
  },
  {
   "cell_type": "code",
   "execution_count": 4,
   "metadata": {
    "ExecuteTime": {
     "end_time": "2020-11-15T09:49:46.234079Z",
     "start_time": "2020-11-15T09:49:46.224170Z"
    }
   },
   "outputs": [
    {
     "data": {
      "text/html": [
       "<div>\n",
       "<style scoped>\n",
       "    .dataframe tbody tr th:only-of-type {\n",
       "        vertical-align: middle;\n",
       "    }\n",
       "\n",
       "    .dataframe tbody tr th {\n",
       "        vertical-align: top;\n",
       "    }\n",
       "\n",
       "    .dataframe thead th {\n",
       "        text-align: right;\n",
       "    }\n",
       "</style>\n",
       "<table border=\"1\" class=\"dataframe\">\n",
       "  <thead>\n",
       "    <tr style=\"text-align: right;\">\n",
       "      <th></th>\n",
       "      <th>id</th>\n",
       "      <th>o</th>\n",
       "      <th>c</th>\n",
       "      <th>e</th>\n",
       "      <th>a</th>\n",
       "      <th>n</th>\n",
       "    </tr>\n",
       "  </thead>\n",
       "  <tbody>\n",
       "    <tr>\n",
       "      <th>0</th>\n",
       "      <td>1</td>\n",
       "      <td>1</td>\n",
       "      <td>0</td>\n",
       "      <td>0</td>\n",
       "      <td>1</td>\n",
       "      <td>1</td>\n",
       "    </tr>\n",
       "    <tr>\n",
       "      <th>1</th>\n",
       "      <td>2</td>\n",
       "      <td>1</td>\n",
       "      <td>0</td>\n",
       "      <td>0</td>\n",
       "      <td>0</td>\n",
       "      <td>0</td>\n",
       "    </tr>\n",
       "    <tr>\n",
       "      <th>2</th>\n",
       "      <td>3</td>\n",
       "      <td>0</td>\n",
       "      <td>1</td>\n",
       "      <td>0</td>\n",
       "      <td>1</td>\n",
       "      <td>1</td>\n",
       "    </tr>\n",
       "    <tr>\n",
       "      <th>3</th>\n",
       "      <td>4</td>\n",
       "      <td>1</td>\n",
       "      <td>1</td>\n",
       "      <td>1</td>\n",
       "      <td>0</td>\n",
       "      <td>0</td>\n",
       "    </tr>\n",
       "    <tr>\n",
       "      <th>4</th>\n",
       "      <td>5</td>\n",
       "      <td>1</td>\n",
       "      <td>0</td>\n",
       "      <td>1</td>\n",
       "      <td>0</td>\n",
       "      <td>1</td>\n",
       "    </tr>\n",
       "    <tr>\n",
       "      <th>...</th>\n",
       "      <td>...</td>\n",
       "      <td>...</td>\n",
       "      <td>...</td>\n",
       "      <td>...</td>\n",
       "      <td>...</td>\n",
       "      <td>...</td>\n",
       "    </tr>\n",
       "    <tr>\n",
       "      <th>2456</th>\n",
       "      <td>2463</td>\n",
       "      <td>0</td>\n",
       "      <td>1</td>\n",
       "      <td>0</td>\n",
       "      <td>1</td>\n",
       "      <td>0</td>\n",
       "    </tr>\n",
       "    <tr>\n",
       "      <th>2457</th>\n",
       "      <td>2464</td>\n",
       "      <td>0</td>\n",
       "      <td>0</td>\n",
       "      <td>1</td>\n",
       "      <td>1</td>\n",
       "      <td>1</td>\n",
       "    </tr>\n",
       "    <tr>\n",
       "      <th>2458</th>\n",
       "      <td>2465</td>\n",
       "      <td>1</td>\n",
       "      <td>0</td>\n",
       "      <td>0</td>\n",
       "      <td>0</td>\n",
       "      <td>0</td>\n",
       "    </tr>\n",
       "    <tr>\n",
       "      <th>2459</th>\n",
       "      <td>2466</td>\n",
       "      <td>0</td>\n",
       "      <td>0</td>\n",
       "      <td>0</td>\n",
       "      <td>1</td>\n",
       "      <td>1</td>\n",
       "    </tr>\n",
       "    <tr>\n",
       "      <th>2460</th>\n",
       "      <td>2467</td>\n",
       "      <td>1</td>\n",
       "      <td>0</td>\n",
       "      <td>0</td>\n",
       "      <td>1</td>\n",
       "      <td>1</td>\n",
       "    </tr>\n",
       "  </tbody>\n",
       "</table>\n",
       "<p>2461 rows × 6 columns</p>\n",
       "</div>"
      ],
      "text/plain": [
       "        id  o  c  e  a  n\n",
       "0        1  1  0  0  1  1\n",
       "1        2  1  0  0  0  0\n",
       "2        3  0  1  0  1  1\n",
       "3        4  1  1  1  0  0\n",
       "4        5  1  0  1  0  1\n",
       "...    ... .. .. .. .. ..\n",
       "2456  2463  0  1  0  1  0\n",
       "2457  2464  0  0  1  1  1\n",
       "2458  2465  1  0  0  0  0\n",
       "2459  2466  0  0  0  1  1\n",
       "2460  2467  1  0  0  1  1\n",
       "\n",
       "[2461 rows x 6 columns]"
      ]
     },
     "execution_count": 4,
     "metadata": {},
     "output_type": "execute_result"
    }
   ],
   "source": [
    "label_data"
   ]
  },
  {
   "cell_type": "code",
   "execution_count": 5,
   "metadata": {
    "ExecuteTime": {
     "end_time": "2020-11-15T09:50:12.394282Z",
     "start_time": "2020-11-15T09:50:12.388630Z"
    }
   },
   "outputs": [],
   "source": [
    "full_data = text_data.join(label_data,lsuffix='_text', rsuffix='_label')"
   ]
  },
  {
   "cell_type": "code",
   "execution_count": 6,
   "metadata": {
    "ExecuteTime": {
     "end_time": "2020-11-15T09:50:13.005822Z",
     "start_time": "2020-11-15T09:50:12.992207Z"
    },
    "scrolled": true
   },
   "outputs": [
    {
     "data": {
      "text/html": [
       "<div>\n",
       "<style scoped>\n",
       "    .dataframe tbody tr th:only-of-type {\n",
       "        vertical-align: middle;\n",
       "    }\n",
       "\n",
       "    .dataframe tbody tr th {\n",
       "        vertical-align: top;\n",
       "    }\n",
       "\n",
       "    .dataframe thead th {\n",
       "        text-align: right;\n",
       "    }\n",
       "</style>\n",
       "<table border=\"1\" class=\"dataframe\">\n",
       "  <thead>\n",
       "    <tr style=\"text-align: right;\">\n",
       "      <th></th>\n",
       "      <th>id_text</th>\n",
       "      <th>text</th>\n",
       "      <th>id_label</th>\n",
       "      <th>o</th>\n",
       "      <th>c</th>\n",
       "      <th>e</th>\n",
       "      <th>a</th>\n",
       "      <th>n</th>\n",
       "    </tr>\n",
       "  </thead>\n",
       "  <tbody>\n",
       "    <tr>\n",
       "      <th>0</th>\n",
       "      <td>1</td>\n",
       "      <td>现在我刚从午睡中醒来。这有点奇怪，但自从我搬到得克萨斯州后，我一直无法集中精力处理事情。我记...</td>\n",
       "      <td>1</td>\n",
       "      <td>1</td>\n",
       "      <td>0</td>\n",
       "      <td>0</td>\n",
       "      <td>1</td>\n",
       "      <td>1</td>\n",
       "    </tr>\n",
       "    <tr>\n",
       "      <th>1</th>\n",
       "      <td>2</td>\n",
       "      <td>好吧，我们来看看意识流的文章。我以前在高中的时候经常做这样的事。他们很有趣，但我经常发现自己...</td>\n",
       "      <td>2</td>\n",
       "      <td>1</td>\n",
       "      <td>0</td>\n",
       "      <td>0</td>\n",
       "      <td>0</td>\n",
       "      <td>0</td>\n",
       "    </tr>\n",
       "    <tr>\n",
       "      <th>2</th>\n",
       "      <td>3</td>\n",
       "      <td>打开的键盘和按钮。事情终于成功了，我不需要使用句号逗号和所有那些想法。句点后加两倍空格。我们...</td>\n",
       "      <td>3</td>\n",
       "      <td>0</td>\n",
       "      <td>1</td>\n",
       "      <td>0</td>\n",
       "      <td>1</td>\n",
       "      <td>1</td>\n",
       "    </tr>\n",
       "    <tr>\n",
       "      <th>3</th>\n",
       "      <td>4</td>\n",
       "      <td>我真不敢相信！真的发生了！我的脉搏快疯了。所以这就是它的样子。现在我终于知道那是什么感觉了。...</td>\n",
       "      <td>4</td>\n",
       "      <td>1</td>\n",
       "      <td>1</td>\n",
       "      <td>1</td>\n",
       "      <td>0</td>\n",
       "      <td>0</td>\n",
       "    </tr>\n",
       "    <tr>\n",
       "      <th>4</th>\n",
       "      <td>5</td>\n",
       "      <td>好吧，我又来了一个好的旧意识流任务。我觉得我又回到了新生的英语课上了。这不是坏事，但是我的英...</td>\n",
       "      <td>5</td>\n",
       "      <td>1</td>\n",
       "      <td>0</td>\n",
       "      <td>1</td>\n",
       "      <td>0</td>\n",
       "      <td>1</td>\n",
       "    </tr>\n",
       "    <tr>\n",
       "      <th>...</th>\n",
       "      <td>...</td>\n",
       "      <td>...</td>\n",
       "      <td>...</td>\n",
       "      <td>...</td>\n",
       "      <td>...</td>\n",
       "      <td>...</td>\n",
       "      <td>...</td>\n",
       "      <td>...</td>\n",
       "    </tr>\n",
       "    <tr>\n",
       "      <th>2456</th>\n",
       "      <td>2463</td>\n",
       "      <td>我在家。我想上床睡觉，但我想起下周我有一个心理学作业要完成。也许这不会花那么长时间。我能应付...</td>\n",
       "      <td>2463</td>\n",
       "      <td>0</td>\n",
       "      <td>1</td>\n",
       "      <td>0</td>\n",
       "      <td>1</td>\n",
       "      <td>0</td>\n",
       "    </tr>\n",
       "    <tr>\n",
       "      <th>2457</th>\n",
       "      <td>2464</td>\n",
       "      <td>一致性流。这个怎么拼？去他妈的如果我知道的话。我今天好像知道的不多。我他妈的为什么这么不高兴...</td>\n",
       "      <td>2464</td>\n",
       "      <td>0</td>\n",
       "      <td>0</td>\n",
       "      <td>1</td>\n",
       "      <td>1</td>\n",
       "      <td>1</td>\n",
       "    </tr>\n",
       "    <tr>\n",
       "      <th>2458</th>\n",
       "      <td>2465</td>\n",
       "      <td>今天是12月8日星期三，这学期有很多事情要做。我正在努力尽可能地完成这学期的学习，但它并没有...</td>\n",
       "      <td>2465</td>\n",
       "      <td>1</td>\n",
       "      <td>0</td>\n",
       "      <td>0</td>\n",
       "      <td>0</td>\n",
       "      <td>0</td>\n",
       "    </tr>\n",
       "    <tr>\n",
       "      <th>2459</th>\n",
       "      <td>2466</td>\n",
       "      <td>这个星期真是太可怕了。无论如何，现在是20分钟写作作业的时间了。我现在很累，今晚有很多功课要...</td>\n",
       "      <td>2466</td>\n",
       "      <td>0</td>\n",
       "      <td>0</td>\n",
       "      <td>0</td>\n",
       "      <td>1</td>\n",
       "      <td>1</td>\n",
       "    </tr>\n",
       "    <tr>\n",
       "      <th>2460</th>\n",
       "      <td>2467</td>\n",
       "      <td>我刚和布雷迪通了电话。我正在决定这个周末我们要做什么。他想去旅馆，但我知道我得照看孩子，我不...</td>\n",
       "      <td>2467</td>\n",
       "      <td>1</td>\n",
       "      <td>0</td>\n",
       "      <td>0</td>\n",
       "      <td>1</td>\n",
       "      <td>1</td>\n",
       "    </tr>\n",
       "  </tbody>\n",
       "</table>\n",
       "<p>2461 rows × 8 columns</p>\n",
       "</div>"
      ],
      "text/plain": [
       "      id_text                                               text  id_label  o  \\\n",
       "0           1  现在我刚从午睡中醒来。这有点奇怪，但自从我搬到得克萨斯州后，我一直无法集中精力处理事情。我记...         1  1   \n",
       "1           2  好吧，我们来看看意识流的文章。我以前在高中的时候经常做这样的事。他们很有趣，但我经常发现自己...         2  1   \n",
       "2           3  打开的键盘和按钮。事情终于成功了，我不需要使用句号逗号和所有那些想法。句点后加两倍空格。我们...         3  0   \n",
       "3           4  我真不敢相信！真的发生了！我的脉搏快疯了。所以这就是它的样子。现在我终于知道那是什么感觉了。...         4  1   \n",
       "4           5  好吧，我又来了一个好的旧意识流任务。我觉得我又回到了新生的英语课上了。这不是坏事，但是我的英...         5  1   \n",
       "...       ...                                                ...       ... ..   \n",
       "2456     2463  我在家。我想上床睡觉，但我想起下周我有一个心理学作业要完成。也许这不会花那么长时间。我能应付...      2463  0   \n",
       "2457     2464  一致性流。这个怎么拼？去他妈的如果我知道的话。我今天好像知道的不多。我他妈的为什么这么不高兴...      2464  0   \n",
       "2458     2465  今天是12月8日星期三，这学期有很多事情要做。我正在努力尽可能地完成这学期的学习，但它并没有...      2465  1   \n",
       "2459     2466  这个星期真是太可怕了。无论如何，现在是20分钟写作作业的时间了。我现在很累，今晚有很多功课要...      2466  0   \n",
       "2460     2467  我刚和布雷迪通了电话。我正在决定这个周末我们要做什么。他想去旅馆，但我知道我得照看孩子，我不...      2467  1   \n",
       "\n",
       "      c  e  a  n  \n",
       "0     0  0  1  1  \n",
       "1     0  0  0  0  \n",
       "2     1  0  1  1  \n",
       "3     1  1  0  0  \n",
       "4     0  1  0  1  \n",
       "...  .. .. .. ..  \n",
       "2456  1  0  1  0  \n",
       "2457  0  1  1  1  \n",
       "2458  0  0  0  0  \n",
       "2459  0  0  1  1  \n",
       "2460  0  0  1  1  \n",
       "\n",
       "[2461 rows x 8 columns]"
      ]
     },
     "execution_count": 6,
     "metadata": {},
     "output_type": "execute_result"
    }
   ],
   "source": [
    "full_data"
   ]
  },
  {
   "cell_type": "code",
   "execution_count": null,
   "metadata": {},
   "outputs": [],
   "source": [
    "# 2460 <-> 2467, 6 rows skippped"
   ]
  },
  {
   "cell_type": "code",
   "execution_count": 7,
   "metadata": {
    "ExecuteTime": {
     "end_time": "2020-11-15T09:50:22.058196Z",
     "start_time": "2020-11-15T09:50:22.054645Z"
    }
   },
   "outputs": [
    {
     "data": {
      "text/plain": [
       "(2461, 8)"
      ]
     },
     "execution_count": 7,
     "metadata": {},
     "output_type": "execute_result"
    }
   ],
   "source": [
    "full_data.shape"
   ]
  },
  {
   "cell_type": "markdown",
   "metadata": {},
   "source": [
    "### Train test split"
   ]
  },
  {
   "cell_type": "code",
   "execution_count": 191,
   "metadata": {
    "ExecuteTime": {
     "end_time": "2020-11-15T12:56:36.278565Z",
     "start_time": "2020-11-15T12:56:36.274948Z"
    }
   },
   "outputs": [],
   "source": [
    "# set 85:15 train-test ratio\n",
    "train = full_data.sample(frac=.85, random_state=101)"
   ]
  },
  {
   "cell_type": "code",
   "execution_count": 192,
   "metadata": {
    "ExecuteTime": {
     "end_time": "2020-11-15T12:56:37.164287Z",
     "start_time": "2020-11-15T12:56:37.160370Z"
    }
   },
   "outputs": [
    {
     "data": {
      "text/plain": [
       "(2092, 8)"
      ]
     },
     "execution_count": 192,
     "metadata": {},
     "output_type": "execute_result"
    }
   ],
   "source": [
    "train.shape"
   ]
  },
  {
   "cell_type": "code",
   "execution_count": 193,
   "metadata": {
    "ExecuteTime": {
     "end_time": "2020-11-15T12:56:37.991578Z",
     "start_time": "2020-11-15T12:56:37.987307Z"
    }
   },
   "outputs": [],
   "source": [
    "test = full_data.drop(train.index)"
   ]
  },
  {
   "cell_type": "code",
   "execution_count": 194,
   "metadata": {
    "ExecuteTime": {
     "end_time": "2020-11-15T12:56:38.778847Z",
     "start_time": "2020-11-15T12:56:38.775424Z"
    }
   },
   "outputs": [
    {
     "data": {
      "text/plain": [
       "(369, 8)"
      ]
     },
     "execution_count": 194,
     "metadata": {},
     "output_type": "execute_result"
    }
   ],
   "source": [
    "test.shape"
   ]
  },
  {
   "cell_type": "code",
   "execution_count": 44,
   "metadata": {
    "ExecuteTime": {
     "end_time": "2020-11-13T07:14:21.442749Z",
     "start_time": "2020-11-13T07:14:21.359090Z"
    }
   },
   "outputs": [],
   "source": [
    "# save for future reuse\n",
    "train.to_csv('data/train.csv')\n",
    "test.to_csv('data/test.csv')"
   ]
  },
  {
   "cell_type": "markdown",
   "metadata": {},
   "source": [
    "## Models, Training and Evaluation"
   ]
  },
  {
   "cell_type": "markdown",
   "metadata": {},
   "source": [
    "Goal: Given a piece of Chinese text, identify 1/0 for each of the five personalities.\n",
    "\n",
    "Idea: \n",
    "    1. Five independent binary classification problem --> This approach is realized in this project\n",
    "    2. Prediction on five altogether"
   ]
  },
  {
   "cell_type": "code",
   "execution_count": 51,
   "metadata": {
    "ExecuteTime": {
     "end_time": "2020-11-15T13:41:18.303168Z",
     "start_time": "2020-11-15T13:41:18.205568Z"
    }
   },
   "outputs": [],
   "source": [
    "# load split dataset\n",
    "train = pd.read_csv('data/train.csv')\n",
    "test = pd.read_csv('data/test.csv')"
   ]
  },
  {
   "cell_type": "markdown",
   "metadata": {},
   "source": [
    "### Preprocess words data"
   ]
  },
  {
   "cell_type": "markdown",
   "metadata": {},
   "source": [
    "The following 2 tools are used in this part for breaking text pragraph and vectorizing them:\n",
    "\n",
    "* sklearn word vectorizer: [CountVectorizer](https://scikit-learn.org/stable/modules/generated/sklearn.feature_extraction.text.CountVectorizer.html)\n",
    "* [jieba package for Chinese tokenization](https://github.com/fxsjy/jieba)"
   ]
  },
  {
   "cell_type": "code",
   "execution_count": 12,
   "metadata": {
    "ExecuteTime": {
     "end_time": "2020-11-15T10:51:14.730136Z",
     "start_time": "2020-11-15T10:51:14.726122Z"
    }
   },
   "outputs": [
    {
     "data": {
      "text/plain": [
       "'所以我坐在我的房间里，想知道这是一个什么，我真的在想什么。我想到的日子似乎离我过去的希望相去甚远，我想你可以这么说。我在想未来的可能性，我在想不久前一位朋友曾经问过我，你的生活目标是什么。我告诉她我没有。今天我醒来，除了希望得到汤姆骨髓外，没有别的原因。这是一个谎言，我当然有目标，只是一个我现在正努力实现的目标。那我该怎么办？我想这就是我现在最想的。我也在窗外看到一幅美丽的风景，世界在阳光的照耀下滚滚而过，我不知道他们要讲什么故事。我需要一支雪茄。等等。上帝保佑尼古丁。这是一种很好的药。我的很多朋友都担心我会因此死去，但是嘿，我今天该怎么办？什么也没有。我可以把它修好，也许这就是我总是等着其他时间的坏时机的根源。我在考虑我该怎么办，星期五去，只是处于中度疼痛的状态，或者去做一些有趣的事情。天哪，我恨她的朋友，还有那些科学家和侄女。我真的不认为我能处理这些废话，我也不能处理马特试图成为每个人的朋友和关心的中心，老实说，我不知道该怎么办。我想对他大发雷霆，告诉他我对他的看法和他所有的废话，但我觉得这不适合我，反正还不适合。我要去买书。但我可能要等到明天。呵呵。不管怎样。所以我在一场大型歌剧的迷雾中，我没有让它从我身边经过，但我仍然在这里。怎么了。如果没有任何结果，那么无休止的乐观主义哲学又有什么意义呢。一大堆引语刚进入我的脑海，但我真的不想打字。好 啊。现在怎么办。我看到自己在我的生活中处于一个相当有问题的状态，没有去哪里，什么都不做，从来没有感到如此孤独，从来没有感觉如此活着。但话说回来。但总有一条路是正确的选择，但我看不到，没有明确的答案，至少不是我喜欢的。一个普通的kobi oshi maro不赢sinerio。好吧，废话！怎么办。我在这一点上几乎没有选择去不去等着看离开忘了付出牺牲报仇。怎么办？好吧，总有另一个选择，少走一条路。出去吧。我只是看不到，我需要看到它需要解放思想的欲望和我自己的需要分离和英格尔。怎么办？好吧，最好的例子，西内里奥，我什么都不做，只是随波逐流，很可能我会大便。我做了一些事情，事情只会变得更糟。我走了，让大家都很生气。付出我伤害索取我伤害别人忘记。如果我能忘记，我想我会忘记的，但你知道那对我来说永远都不管用。我可以隐藏，我可以等待，但忘记放手。从来都不是我擅长的。我已经得到了很多建议，所有这些都是一样的观望。但这对我来说不起作用，尽管我真的没有其他的自相矛盾。所以我走了我打个招呼就走了。这就是我要做的，然后我去喝一杯总是个好主意是的。好吧，那现在怎么办。我想到了写作，但在写了这么多废话的夏天之后，我还是觉得精疲力尽。我也真的没什么好说的。我是说真的有什么可以说我很难过我没有在我的比赛的顶端。但这一切都会改变，我觉得这让我很沮丧。没有绝对论者认为，给时间一切都不会是原来的样子。有些事情会发生，但总有改变的可能性问题变成了我该怎么做来影响改变我如何控制我自己生活中存在的力量以前我很擅长这一点，但最近我想这只是一个复杂的问题，没有人会问什么、何时、何地和如何改变。但我在其他人的生活中看到了他们，也许我失去了理智，我放弃了太久，需要接受'"
      ]
     },
     "execution_count": 12,
     "metadata": {},
     "output_type": "execute_result"
    }
   ],
   "source": [
    "train['text'][0]"
   ]
  },
  {
   "cell_type": "code",
   "execution_count": 3,
   "metadata": {
    "ExecuteTime": {
     "end_time": "2020-11-15T13:07:26.059509Z",
     "start_time": "2020-11-15T13:07:25.431646Z"
    }
   },
   "outputs": [
    {
     "name": "stderr",
     "output_type": "stream",
     "text": [
      "Building prefix dict from the default dictionary ...\n",
      "Loading model from cache /var/folders/sy/r3wnpbxn4k355gs8m6fxrkfc0000gn/T/jieba.cache\n",
      "Loading model cost 0.613 seconds.\n",
      "Prefix dict has been built successfully.\n"
     ]
    },
    {
     "data": {
      "text/plain": [
       "'所以 我 坐在 我 的 房间 里 ， 想 知道 这是 一个 什么 ， 我 真的 在 想 什么 。 我 想到 的 日子 似乎 离 我 过去 的 希望 相去甚远 ， 我 想 你 可以 这么 说 。 我 在 想 未来 的 可能性 ， 我 在 想 不久前 一位 朋友 曾经 问过 我 ， 你 的 生活 目标 是 什么 。 我 告诉 她 我 没有 。 今天 我 醒来 ， 除了 希望 得到 汤姆 骨髓 外 ， 没有 别的 原因 。 这是 一个 谎言 ， 我 当然 有 目标 ， 只是 一个 我 现在 正 努力实现 的 目标 。 那 我 该 怎么办 ？ 我 想 这 就是 我 现在 最想 的 。 我 也 在 窗外 看到 一幅 美丽 的 风景 ， 世界 在 阳光 的 照耀 下 滚滚 而 过 ， 我 不 知道 他们 要 讲 什么 故事 。 我 需要 一支 雪茄 。 等等 。 上帝保佑 尼古丁 。 这是 一种 很 好 的 药 。 我 的 很多 朋友 都 担心 我会 因此 死去 ， 但是 嘿 ， 我 今天 该 怎么办 ？ 什么 也 没有 。 我 可以 把 它 修好 ， 也许 这 就是 我 总是 等 着 其他 时间 的 坏 时机 的 根源 。 我 在 考虑 我该 怎么办 ， 星期五 去 ， 只是 处于 中度 疼痛 的 状态 ， 或者 去 做 一些 有趣 的 事情 。 天 哪 ， 我 恨 她 的 朋友 ， 还有 那些 科学家 和 侄女 。 我 真的 不 认为 我能 处理 这些 废话 ， 我 也 不能 处理 马特 试图 成为 每个 人 的 朋友 和 关心 的 中心 ， 老实 说 ， 我 不 知道 该 怎么办 。 我 想 对 他 大发雷霆 ， 告诉 他 我 对 他 的 看法 和 他 所有 的 废话 ， 但 我 觉得 这 不 适合 我 ， 反正 还 不 适合 。 我要 去 买 书 。 但 我 可能 要 等到 明天 。 呵呵 。 不管怎样 。 所以 我 在 一场 大型 歌剧 的 迷雾 中 ， 我 没有 让 它 从 我 身边 经过 ， 但 我 仍然 在 这里 。 怎么 了 。 如果 没有 任何 结果 ， 那么 无休止 的 乐观主义 哲学 又 有 什么 意义 呢 。 一大堆 引语 刚 进入 我 的 脑海 ， 但 我 真的 不想 打字 。 好   啊 。 现在 怎么办 。 我 看到 自己 在 我 的 生活 中 处于 一个 相当 有 问题 的 状态 ， 没有 去 哪里 ， 什么 都 不 做 ， 从来 没有 感到 如此 孤独 ， 从来 没有 感觉 如此 活着 。 但 话说回来 。 但 总有 一条 路 是 正确 的 选择 ， 但 我 看不到 ， 没有 明确 的 答案 ， 至少 不是 我 喜欢 的 。 一个 普通 的 kobi   oshi   maro 不赢 sinerio 。 好 吧 ， 废话 ！ 怎么办 。 我 在 这 一点 上 几乎 没有 选择 去不去 等 着 看 离开 忘 了 付出 牺牲 报仇 。 怎么办 ？ 好 吧 ， 总有 另 一个 选择 ， 少 走 一条 路 。 出去 吧 。 我 只是 看不到 ， 我 需要 看到 它 需要 解放思想 的 欲望 和 我 自己 的 需要 分离 和 英格尔 。 怎么办 ？ 好 吧 ， 最好 的 例子 ， 西内 里奥 ， 我 什么 都 不 做 ， 只是 随波逐流 ， 很 可能 我会 大便 。 我 做 了 一些 事情 ， 事情 只会 变得 更糟 。 我 走 了 ， 让 大家 都 很 生气 。 付出 我 伤害 索取 我 伤害 别人 忘记 。 如果 我能 忘记 ， 我 想 我会 忘记 的 ， 但 你 知道 那 对 我 来说 永远 都 不管 用 。 我 可以 隐藏 ， 我 可以 等待 ， 但 忘记 放手 。 从来 都 不是 我 擅长 的 。 我 已经 得到 了 很多 建议 ， 所有 这些 都 是 一样 的 观望 。 但 这 对 我 来说 不起作用 ， 尽管 我 真的 没有 其他 的 自相矛盾 。 所以 我 走 了 我 打个招呼 就 走 了 。 这 就是 我要 做 的 ， 然后 我 去 喝一杯 总是 个 好 主意 是 的 。 好 吧 ， 那 现在 怎么办 。 我 想到 了 写作 ， 但 在 写 了 这么 多 废话 的 夏天 之后 ， 我 还是 觉得 精疲力尽 。 我 也 真的 没什么 好 说 的 。 我 是 说真的 有 什么 可以 说 我 很 难过 我 没有 在 我 的 比赛 的 顶端 。 但 这 一切 都 会 改变 ， 我 觉得 这 让 我 很 沮丧 。 没有 绝对 论者 认为 ， 给 时间 一切 都 不会 是 原来 的 样子 。 有些 事情 会 发生 ， 但 总有 改变 的 可能性 问题 变成 了 我 该 怎么 做来 影响 改变 我 如何 控制 我 自己 生活 中 存在 的 力量 以前 我 很 擅长 这 一点 ， 但 最近 我 想 这 只是 一个 复杂 的 问题 ， 没有 人会 问 什么 、 何时 、 何地 和 如何 改变 。 但 我 在 其他人 的 生活 中 看到 了 他们 ， 也许 我 失去 了 理智 ， 我 放弃 了 太久 ， 需要 接受'"
      ]
     },
     "execution_count": 3,
     "metadata": {},
     "output_type": "execute_result"
    }
   ],
   "source": [
    "l = jieba.cut(train['text'][0], cut_all=False)\n",
    "' '.join(l)"
   ]
  },
  {
   "cell_type": "code",
   "execution_count": 4,
   "metadata": {
    "ExecuteTime": {
     "end_time": "2020-11-15T13:07:40.750246Z",
     "start_time": "2020-11-15T13:07:29.539508Z"
    }
   },
   "outputs": [],
   "source": [
    "vectorizer = CountVectorizer(analyzer='word', tokenizer=lambda x: jieba.cut(x,cut_all=False))\n",
    "train_X = vectorizer.fit_transform(train['text'])#.apply(lambda x: ' '.join(jieba.cut(x,cut_all=False))))\n",
    "test_X = vectorizer.transform(test['text'])#.apply(lambda x: ' '.join(jieba.cut(x,cut_all=False))))"
   ]
  },
  {
   "cell_type": "code",
   "execution_count": 5,
   "metadata": {
    "ExecuteTime": {
     "end_time": "2020-11-15T13:07:41.290802Z",
     "start_time": "2020-11-15T13:07:41.262432Z"
    }
   },
   "outputs": [
    {
     "data": {
      "text/plain": [
       "29597"
      ]
     },
     "execution_count": 5,
     "metadata": {},
     "output_type": "execute_result"
    }
   ],
   "source": [
    "len(vectorizer.get_feature_names())"
   ]
  },
  {
   "cell_type": "code",
   "execution_count": 6,
   "metadata": {
    "ExecuteTime": {
     "end_time": "2020-11-15T13:07:42.054975Z",
     "start_time": "2020-11-15T13:07:41.823482Z"
    }
   },
   "outputs": [
    {
     "data": {
      "text/plain": [
       "(2092, 29597)"
      ]
     },
     "execution_count": 6,
     "metadata": {},
     "output_type": "execute_result"
    }
   ],
   "source": [
    "train_X.toarray().shape"
   ]
  },
  {
   "cell_type": "markdown",
   "metadata": {},
   "source": [
    "### Model1: SVM"
   ]
  },
  {
   "cell_type": "code",
   "execution_count": 7,
   "metadata": {
    "ExecuteTime": {
     "end_time": "2020-11-15T13:07:42.692818Z",
     "start_time": "2020-11-15T13:07:42.628008Z"
    }
   },
   "outputs": [],
   "source": [
    "from sklearn import svm"
   ]
  },
  {
   "cell_type": "code",
   "execution_count": 37,
   "metadata": {
    "ExecuteTime": {
     "end_time": "2020-11-15T13:11:34.152705Z",
     "start_time": "2020-11-15T13:11:22.848374Z"
    },
    "scrolled": true
   },
   "outputs": [
    {
     "data": {
      "text/plain": [
       "0.5203252032520326"
      ]
     },
     "execution_count": 37,
     "metadata": {},
     "output_type": "execute_result"
    }
   ],
   "source": [
    "svm_o = svm.SVC(kernel='rbf')\n",
    "svm_o.fit(train_X, train['o'])\n",
    "svm_o.score(test_X, test['o'])"
   ]
  },
  {
   "cell_type": "code",
   "execution_count": 9,
   "metadata": {
    "ExecuteTime": {
     "end_time": "2020-11-15T13:08:05.714654Z",
     "start_time": "2020-11-15T13:07:54.966187Z"
    }
   },
   "outputs": [
    {
     "data": {
      "text/plain": [
       "0.5609756097560976"
      ]
     },
     "execution_count": 9,
     "metadata": {},
     "output_type": "execute_result"
    }
   ],
   "source": [
    "svm_c = svm.SVC(kernel='rbf')\n",
    "svm_c.fit(train_X, train['c'])\n",
    "svm_c.score(test_X, test['c'])"
   ]
  },
  {
   "cell_type": "code",
   "execution_count": 10,
   "metadata": {
    "ExecuteTime": {
     "end_time": "2020-11-15T13:08:18.564285Z",
     "start_time": "2020-11-15T13:08:06.243094Z"
    }
   },
   "outputs": [
    {
     "data": {
      "text/plain": [
       "0.5392953929539296"
      ]
     },
     "execution_count": 10,
     "metadata": {},
     "output_type": "execute_result"
    }
   ],
   "source": [
    "svm_e = svm.SVC(kernel='linear')\n",
    "svm_e.fit(train_X, train['e'])\n",
    "\n",
    "svm_e.score(test_X, test['e'])"
   ]
  },
  {
   "cell_type": "code",
   "execution_count": 11,
   "metadata": {
    "ExecuteTime": {
     "end_time": "2020-11-15T13:08:29.602400Z",
     "start_time": "2020-11-15T13:08:19.098880Z"
    }
   },
   "outputs": [
    {
     "data": {
      "text/plain": [
       "0.5555555555555556"
      ]
     },
     "execution_count": 11,
     "metadata": {},
     "output_type": "execute_result"
    }
   ],
   "source": [
    "svm_a = svm.SVC(kernel='rbf')\n",
    "svm_a.fit(train_X, train['a'])\n",
    "svm_a.score(test_X, test['a'])"
   ]
  },
  {
   "cell_type": "code",
   "execution_count": 12,
   "metadata": {
    "ExecuteTime": {
     "end_time": "2020-11-15T13:08:40.345344Z",
     "start_time": "2020-11-15T13:08:30.138741Z"
    }
   },
   "outputs": [
    {
     "data": {
      "text/plain": [
       "0.6124661246612466"
      ]
     },
     "execution_count": 12,
     "metadata": {},
     "output_type": "execute_result"
    }
   ],
   "source": [
    "svm_n = svm.SVC(kernel='rbf')\n",
    "svm_n.fit(train_X, train['n'])\n",
    "svm_n.score(test_X, test['n'])"
   ]
  },
  {
   "cell_type": "markdown",
   "metadata": {},
   "source": [
    "### Model2: Decision Tree"
   ]
  },
  {
   "cell_type": "code",
   "execution_count": 13,
   "metadata": {
    "ExecuteTime": {
     "end_time": "2020-11-15T13:08:40.940350Z",
     "start_time": "2020-11-15T13:08:40.896292Z"
    }
   },
   "outputs": [],
   "source": [
    "from sklearn import tree"
   ]
  },
  {
   "cell_type": "code",
   "execution_count": 14,
   "metadata": {
    "ExecuteTime": {
     "end_time": "2020-11-15T13:08:42.399906Z",
     "start_time": "2020-11-15T13:08:41.482495Z"
    }
   },
   "outputs": [
    {
     "data": {
      "text/plain": [
       "0.5230352303523035"
      ]
     },
     "execution_count": 14,
     "metadata": {},
     "output_type": "execute_result"
    }
   ],
   "source": [
    "dt_o = tree.DecisionTreeClassifier()\n",
    "dt_o.fit(train_X, train['o'])\n",
    "dt_o.score(test_X, test['o'])"
   ]
  },
  {
   "cell_type": "code",
   "execution_count": 15,
   "metadata": {
    "ExecuteTime": {
     "end_time": "2020-11-15T13:08:43.848321Z",
     "start_time": "2020-11-15T13:08:42.929833Z"
    }
   },
   "outputs": [
    {
     "data": {
      "text/plain": [
       "0.5149051490514905"
      ]
     },
     "execution_count": 15,
     "metadata": {},
     "output_type": "execute_result"
    }
   ],
   "source": [
    "dt_c = tree.DecisionTreeClassifier()\n",
    "dt_c.fit(train_X, train['c'])\n",
    "dt_c.score(test_X, test['c'])"
   ]
  },
  {
   "cell_type": "code",
   "execution_count": 16,
   "metadata": {
    "ExecuteTime": {
     "end_time": "2020-11-15T13:08:45.283140Z",
     "start_time": "2020-11-15T13:08:44.385511Z"
    }
   },
   "outputs": [
    {
     "data": {
      "text/plain": [
       "0.5284552845528455"
      ]
     },
     "execution_count": 16,
     "metadata": {},
     "output_type": "execute_result"
    }
   ],
   "source": [
    "dt_e = tree.DecisionTreeClassifier()\n",
    "dt_e.fit(train_X, train['e'])\n",
    "dt_e.score(test_X, test['e'])"
   ]
  },
  {
   "cell_type": "code",
   "execution_count": 17,
   "metadata": {
    "ExecuteTime": {
     "end_time": "2020-11-15T13:08:46.717541Z",
     "start_time": "2020-11-15T13:08:45.827986Z"
    }
   },
   "outputs": [
    {
     "data": {
      "text/plain": [
       "0.5013550135501355"
      ]
     },
     "execution_count": 17,
     "metadata": {},
     "output_type": "execute_result"
    }
   ],
   "source": [
    "dt_a = tree.DecisionTreeClassifier()\n",
    "dt_a.fit(train_X, train['a'])\n",
    "dt_a.score(test_X, test['a'])"
   ]
  },
  {
   "cell_type": "code",
   "execution_count": 18,
   "metadata": {
    "ExecuteTime": {
     "end_time": "2020-11-15T13:08:48.102157Z",
     "start_time": "2020-11-15T13:08:47.274454Z"
    }
   },
   "outputs": [
    {
     "data": {
      "text/plain": [
       "0.5691056910569106"
      ]
     },
     "execution_count": 18,
     "metadata": {},
     "output_type": "execute_result"
    }
   ],
   "source": [
    "dt_n = tree.DecisionTreeClassifier()\n",
    "dt_n.fit(train_X, train['n'])\n",
    "dt_n.score(test_X, test['n'])"
   ]
  },
  {
   "cell_type": "markdown",
   "metadata": {},
   "source": [
    "### Model3: Naive Bayes"
   ]
  },
  {
   "cell_type": "code",
   "execution_count": 19,
   "metadata": {
    "ExecuteTime": {
     "end_time": "2020-11-15T13:08:48.661217Z",
     "start_time": "2020-11-15T13:08:48.657255Z"
    }
   },
   "outputs": [],
   "source": [
    "from sklearn.naive_bayes import GaussianNB"
   ]
  },
  {
   "cell_type": "code",
   "execution_count": 20,
   "metadata": {
    "ExecuteTime": {
     "end_time": "2020-11-15T13:08:51.176154Z",
     "start_time": "2020-11-15T13:08:49.216806Z"
    }
   },
   "outputs": [
    {
     "data": {
      "text/plain": [
       "0.5040650406504065"
      ]
     },
     "execution_count": 20,
     "metadata": {},
     "output_type": "execute_result"
    }
   ],
   "source": [
    "nb_o = GaussianNB()\n",
    "nb_o.fit(train_X.toarray(), train['o'])\n",
    "nb_o.score(test_X.toarray(), test['o'])"
   ]
  },
  {
   "cell_type": "code",
   "execution_count": 21,
   "metadata": {
    "ExecuteTime": {
     "end_time": "2020-11-15T13:08:53.640213Z",
     "start_time": "2020-11-15T13:08:51.776784Z"
    }
   },
   "outputs": [
    {
     "data": {
      "text/plain": [
       "0.5284552845528455"
      ]
     },
     "execution_count": 21,
     "metadata": {},
     "output_type": "execute_result"
    }
   ],
   "source": [
    "nb_c = GaussianNB()\n",
    "nb_c.fit(train_X.toarray(), train['c'])\n",
    "nb_c.score(test_X.toarray(), test['c'])"
   ]
  },
  {
   "cell_type": "code",
   "execution_count": 22,
   "metadata": {
    "ExecuteTime": {
     "end_time": "2020-11-15T13:08:56.182380Z",
     "start_time": "2020-11-15T13:08:54.307089Z"
    }
   },
   "outputs": [
    {
     "data": {
      "text/plain": [
       "0.5149051490514905"
      ]
     },
     "execution_count": 22,
     "metadata": {},
     "output_type": "execute_result"
    }
   ],
   "source": [
    "nb_e = GaussianNB()\n",
    "nb_e.fit(train_X.toarray(), train['e'])\n",
    "nb_e.score(test_X.toarray(), test['e'])"
   ]
  },
  {
   "cell_type": "code",
   "execution_count": 23,
   "metadata": {
    "ExecuteTime": {
     "end_time": "2020-11-15T13:08:58.610430Z",
     "start_time": "2020-11-15T13:08:56.782722Z"
    }
   },
   "outputs": [
    {
     "data": {
      "text/plain": [
       "0.5040650406504065"
      ]
     },
     "execution_count": 23,
     "metadata": {},
     "output_type": "execute_result"
    }
   ],
   "source": [
    "nb_a = GaussianNB()\n",
    "nb_a.fit(train_X.toarray(), train['a'])\n",
    "nb_a.score(test_X.toarray(), test['a'])"
   ]
  },
  {
   "cell_type": "code",
   "execution_count": 24,
   "metadata": {
    "ExecuteTime": {
     "end_time": "2020-11-15T13:09:01.051144Z",
     "start_time": "2020-11-15T13:08:59.201975Z"
    }
   },
   "outputs": [
    {
     "data": {
      "text/plain": [
       "0.5067750677506775"
      ]
     },
     "execution_count": 24,
     "metadata": {},
     "output_type": "execute_result"
    }
   ],
   "source": [
    "nb_n = GaussianNB()\n",
    "nb_n.fit(train_X.toarray(), train['n'])\n",
    "nb_n.score(test_X.toarray(), test['n'])"
   ]
  },
  {
   "cell_type": "markdown",
   "metadata": {},
   "source": [
    "### Model4: Logistic Regression"
   ]
  },
  {
   "cell_type": "code",
   "execution_count": 25,
   "metadata": {
    "ExecuteTime": {
     "end_time": "2020-11-15T13:09:01.651667Z",
     "start_time": "2020-11-15T13:09:01.649204Z"
    }
   },
   "outputs": [],
   "source": [
    "from sklearn.linear_model import LogisticRegression"
   ]
  },
  {
   "cell_type": "code",
   "execution_count": 26,
   "metadata": {
    "ExecuteTime": {
     "end_time": "2020-11-15T13:09:03.315490Z",
     "start_time": "2020-11-15T13:09:02.240442Z"
    }
   },
   "outputs": [
    {
     "data": {
      "text/plain": [
       "0.5230352303523035"
      ]
     },
     "execution_count": 26,
     "metadata": {},
     "output_type": "execute_result"
    }
   ],
   "source": [
    "logi_o = LogisticRegression(solver=\"newton-cg\")\n",
    "logi_o.fit(train_X, train['o'])\n",
    "logi_o.score(test_X, test['o'])"
   ]
  },
  {
   "cell_type": "code",
   "execution_count": 27,
   "metadata": {
    "ExecuteTime": {
     "end_time": "2020-11-15T13:09:04.855479Z",
     "start_time": "2020-11-15T13:09:03.926411Z"
    }
   },
   "outputs": [
    {
     "data": {
      "text/plain": [
       "0.5257452574525745"
      ]
     },
     "execution_count": 27,
     "metadata": {},
     "output_type": "execute_result"
    }
   ],
   "source": [
    "logi_c = LogisticRegression(solver=\"newton-cg\")\n",
    "logi_c.fit(train_X, train['c'])\n",
    "logi_c.score(test_X, test['c'])\n"
   ]
  },
  {
   "cell_type": "code",
   "execution_count": 28,
   "metadata": {
    "ExecuteTime": {
     "end_time": "2020-11-15T13:09:06.536798Z",
     "start_time": "2020-11-15T13:09:05.441766Z"
    }
   },
   "outputs": [
    {
     "data": {
      "text/plain": [
       "0.5447154471544715"
      ]
     },
     "execution_count": 28,
     "metadata": {},
     "output_type": "execute_result"
    }
   ],
   "source": [
    "logi_e = LogisticRegression(solver=\"newton-cg\")\n",
    "logi_e.fit(train_X, train['e'])\n",
    "logi_e.score(test_X, test['e'])\n"
   ]
  },
  {
   "cell_type": "code",
   "execution_count": 29,
   "metadata": {
    "ExecuteTime": {
     "end_time": "2020-11-15T13:09:08.090408Z",
     "start_time": "2020-11-15T13:09:07.144433Z"
    }
   },
   "outputs": [
    {
     "data": {
      "text/plain": [
       "0.5094850948509485"
      ]
     },
     "execution_count": 29,
     "metadata": {},
     "output_type": "execute_result"
    }
   ],
   "source": [
    "logi_a = LogisticRegression(solver=\"newton-cg\")\n",
    "logi_a.fit(train_X, train['a'])\n",
    "logi_a.score(test_X, test['a'])\n"
   ]
  },
  {
   "cell_type": "code",
   "execution_count": 30,
   "metadata": {
    "ExecuteTime": {
     "end_time": "2020-11-15T13:09:09.756023Z",
     "start_time": "2020-11-15T13:09:08.712028Z"
    }
   },
   "outputs": [
    {
     "data": {
      "text/plain": [
       "0.5691056910569106"
      ]
     },
     "execution_count": 30,
     "metadata": {},
     "output_type": "execute_result"
    }
   ],
   "source": [
    "logi_n = LogisticRegression(solver=\"newton-cg\")\n",
    "logi_n.fit(train_X, train['n'])\n",
    "logi_n.score(test_X, test['n'])"
   ]
  },
  {
   "cell_type": "markdown",
   "metadata": {},
   "source": [
    "###  Model5: Random Forest"
   ]
  },
  {
   "cell_type": "code",
   "execution_count": 31,
   "metadata": {
    "ExecuteTime": {
     "end_time": "2020-11-15T13:09:10.409714Z",
     "start_time": "2020-11-15T13:09:10.385279Z"
    }
   },
   "outputs": [],
   "source": [
    "from sklearn.ensemble import RandomForestClassifier"
   ]
  },
  {
   "cell_type": "code",
   "execution_count": 32,
   "metadata": {
    "ExecuteTime": {
     "end_time": "2020-11-15T13:09:12.613147Z",
     "start_time": "2020-11-15T13:09:11.071339Z"
    }
   },
   "outputs": [
    {
     "data": {
      "text/plain": [
       "0.5311653116531165"
      ]
     },
     "execution_count": 32,
     "metadata": {},
     "output_type": "execute_result"
    }
   ],
   "source": [
    "rf_o = RandomForestClassifier(n_estimators=100)\n",
    "rf_o.fit(train_X, train['o'])\n",
    "rf_o.score(test_X, test['o'])"
   ]
  },
  {
   "cell_type": "code",
   "execution_count": 33,
   "metadata": {
    "ExecuteTime": {
     "end_time": "2020-11-15T13:09:14.786357Z",
     "start_time": "2020-11-15T13:09:13.261017Z"
    }
   },
   "outputs": [
    {
     "data": {
      "text/plain": [
       "0.5582655826558266"
      ]
     },
     "execution_count": 33,
     "metadata": {},
     "output_type": "execute_result"
    }
   ],
   "source": [
    "rf_c = RandomForestClassifier(n_estimators=100)\n",
    "rf_c.fit(train_X, train['c'])\n",
    "rf_c.score(test_X, test['c'])"
   ]
  },
  {
   "cell_type": "code",
   "execution_count": 34,
   "metadata": {
    "ExecuteTime": {
     "end_time": "2020-11-15T13:09:17.056464Z",
     "start_time": "2020-11-15T13:09:15.430068Z"
    }
   },
   "outputs": [
    {
     "data": {
      "text/plain": [
       "0.5582655826558266"
      ]
     },
     "execution_count": 34,
     "metadata": {},
     "output_type": "execute_result"
    }
   ],
   "source": [
    "rf_e = RandomForestClassifier(n_estimators=100)\n",
    "rf_e.fit(train_X, train['e'])\n",
    "rf_e.score(test_X, test['e'])"
   ]
  },
  {
   "cell_type": "code",
   "execution_count": 35,
   "metadata": {
    "ExecuteTime": {
     "end_time": "2020-11-15T13:09:19.436862Z",
     "start_time": "2020-11-15T13:09:17.752359Z"
    }
   },
   "outputs": [
    {
     "data": {
      "text/plain": [
       "0.5420054200542005"
      ]
     },
     "execution_count": 35,
     "metadata": {},
     "output_type": "execute_result"
    }
   ],
   "source": [
    "rf_a = RandomForestClassifier(n_estimators=100)\n",
    "rf_a.fit(train_X, train['a'])\n",
    "rf_a.score(test_X, test['a'])"
   ]
  },
  {
   "cell_type": "code",
   "execution_count": 36,
   "metadata": {
    "ExecuteTime": {
     "end_time": "2020-11-15T13:09:21.613396Z",
     "start_time": "2020-11-15T13:09:20.110886Z"
    }
   },
   "outputs": [
    {
     "data": {
      "text/plain": [
       "0.5663956639566395"
      ]
     },
     "execution_count": 36,
     "metadata": {},
     "output_type": "execute_result"
    }
   ],
   "source": [
    "rf_n = RandomForestClassifier(n_estimators=100)\n",
    "rf_n.fit(train_X, train['n'])\n",
    "rf_n.score(test_X, test['n'])"
   ]
  },
  {
   "cell_type": "markdown",
   "metadata": {},
   "source": [
    "## Closing and future outlooks"
   ]
  },
  {
   "cell_type": "markdown",
   "metadata": {},
   "source": [
    "### Results"
   ]
  },
  {
   "cell_type": "markdown",
   "metadata": {},
   "source": [
    "In this toy project, we aimed at predicting Yes/No for each of the five personalities given a piece of Chinese text. \n",
    "\n",
    "The training data we used are of size 2092 and testing data of 369 cases. Models tried and their respective result on each of 5 personalities are: \n",
    "\n",
    "|Model | O | C | E | A | N |\n",
    "|:----:|:-:|:-:|:-:|:--:|:-:|\n",
    "|SVM|0.52|0.56|0.54|0.56|0.61|\n",
    "|Decision Tree|0.52|0.51|0.53|0.50|0.57|\n",
    "|Naive Bayes|0.50|0.53|0.51|0.50|0.51|\n",
    "|Logistic Regression|0.52|0.53|0.54|0.51|0.57|\n",
    "|Random Forest|0.53|0.56|0.56|0.54|0.57|"
   ]
  },
  {
   "cell_type": "markdown",
   "metadata": {},
   "source": [
    "Although prediction accuracy on testing data are just above 0.5 with best accuracy at 0.61(SVM for E: extraversion), a simple t-test can tell us the model is improving compared with baseline(p-value for SVM,Logistic regression and RF are 0.02, 0.03, 0.002 respectively):"
   ]
  },
  {
   "cell_type": "code",
   "execution_count": 38,
   "metadata": {
    "ExecuteTime": {
     "end_time": "2020-11-15T13:21:56.158121Z",
     "start_time": "2020-11-15T13:21:56.155661Z"
    }
   },
   "outputs": [],
   "source": [
    "from scipy import stats"
   ]
  },
  {
   "cell_type": "code",
   "execution_count": 47,
   "metadata": {
    "ExecuteTime": {
     "end_time": "2020-11-15T13:25:46.760656Z",
     "start_time": "2020-11-15T13:25:46.755957Z"
    }
   },
   "outputs": [
    {
     "data": {
      "text/plain": [
       "Ttest_1sampResult(statistic=3.8752880077301586, pvalue=0.017912803701679535)"
      ]
     },
     "execution_count": 47,
     "metadata": {},
     "output_type": "execute_result"
    }
   ],
   "source": [
    "stats.ttest_1samp([0.52, 0.56, 0.54, 0.56, 0.61], 0.5)"
   ]
  },
  {
   "cell_type": "code",
   "execution_count": 48,
   "metadata": {
    "ExecuteTime": {
     "end_time": "2020-11-15T13:25:47.536665Z",
     "start_time": "2020-11-15T13:25:47.532114Z"
    }
   },
   "outputs": [
    {
     "data": {
      "text/plain": [
       "Ttest_1sampResult(statistic=3.3023719320147045, pvalue=0.029866968372355297)"
      ]
     },
     "execution_count": 48,
     "metadata": {},
     "output_type": "execute_result"
    }
   ],
   "source": [
    "stats.ttest_1samp([0.52, 0.53, 0.54, 0.51, 0.57], 0.5)"
   ]
  },
  {
   "cell_type": "code",
   "execution_count": 49,
   "metadata": {
    "ExecuteTime": {
     "end_time": "2020-11-15T13:25:48.227021Z",
     "start_time": "2020-11-15T13:25:48.222472Z"
    }
   },
   "outputs": [
    {
     "data": {
      "text/plain": [
       "Ttest_1sampResult(statistic=7.0763037013736385, pvalue=0.0021047915678584256)"
      ]
     },
     "execution_count": 49,
     "metadata": {},
     "output_type": "execute_result"
    }
   ],
   "source": [
    "stats.ttest_1samp([0.53, 0.56, 0.56, 0.54, 0.57], 0.5)"
   ]
  },
  {
   "cell_type": "markdown",
   "metadata": {},
   "source": [
    "### Potential Improvements"
   ]
  },
  {
   "cell_type": "markdown",
   "metadata": {},
   "source": [
    "Based on the conclusion above, this is shown to be a promsing path despite some barriers. Here are some ways that worth doing for accuracy improvement and future production:\n",
    "1. More data: \n",
    "    we are training with only 2000+ text, each individual has string of length about 200 characters. In crease in either of the two dimension would improve performace of the models.\n",
    "    \n",
    "2. More evaluation metrics:\n",
    "    As a binary classification problem, there are many other diagonisis metrics that may enlighten us on which aspects to improve. Some of them are precision, recall, F1-score, and ROC curve once more data avaliable.\n",
    "    \n",
    "3. Finer tuned model:\n",
    "    In this project, a wide try of 5 models are produced roughly for initial reference. One next step may be to better tune those who seems to have potential: SVM and Random forest for example.\n",
    "    \n",
    "4. Improved preprocessing:\n",
    "    Precprocessing text is a crucial step and one possible improvement is to create a keyword list of each of 5 personalities and take them to weight segmented text..."
   ]
  },
  {
   "cell_type": "markdown",
   "metadata": {},
   "source": [
    "Thank you for your time looking at this project. Please let me know at az_ran@outlook.com if there are any questions. Cheers!"
   ]
  }
 ],
 "metadata": {
  "kernelspec": {
   "display_name": "Python 3",
   "language": "python",
   "name": "python3"
  },
  "toc": {
   "base_numbering": 1,
   "nav_menu": {},
   "number_sections": true,
   "sideBar": true,
   "skip_h1_title": false,
   "title_cell": "Table of Contents",
   "title_sidebar": "Contents",
   "toc_cell": false,
   "toc_position": {},
   "toc_section_display": true,
   "toc_window_display": false
  },
  "varInspector": {
   "cols": {
    "lenName": 16,
    "lenType": 16,
    "lenVar": 40
   },
   "kernels_config": {
    "python": {
     "delete_cmd_postfix": "",
     "delete_cmd_prefix": "del ",
     "library": "var_list.py",
     "varRefreshCmd": "print(var_dic_list())"
    },
    "r": {
     "delete_cmd_postfix": ") ",
     "delete_cmd_prefix": "rm(",
     "library": "var_list.r",
     "varRefreshCmd": "cat(var_dic_list()) "
    }
   },
   "types_to_exclude": [
    "module",
    "function",
    "builtin_function_or_method",
    "instance",
    "_Feature"
   ],
   "window_display": false
  }
 },
 "nbformat": 4,
 "nbformat_minor": 2
}
